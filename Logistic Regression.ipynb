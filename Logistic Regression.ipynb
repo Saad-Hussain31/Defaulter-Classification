{
 "cells": [
  {
   "cell_type": "code",
   "execution_count": 2,
   "id": "allied-lloyd",
   "metadata": {},
   "outputs": [],
   "source": [
    "import pandas as pd\n",
    "import numpy as np\n",
    "import matplotlib as mpl\n",
    "import matplotlib.pyplot as plt\n",
    "import seaborn as sns\n",
    "\n",
    "import sklearn.linear_model as skl_lm\n",
    "from sklearn.discriminant_analysis import LinearDiscriminantAnalysis\n",
    "from sklearn.discriminant_analysis import QuadraticDiscriminantAnalysis\n",
    "from sklearn.metrics import confusion_matrix, classification_report, precision_score\n",
    "from sklearn import preprocessing\n",
    "from sklearn import neighbors\n",
    "\n",
    "import statsmodels.api as sm\n",
    "import statsmodels.formula.api as smf\n",
    "\n",
    "%matplotlib inline\n",
    "plt.style.use('seaborn-white')"
   ]
  },
  {
   "cell_type": "markdown",
   "id": "understanding-initial",
   "metadata": {},
   "source": [
    "### Load dataset"
   ]
  },
  {
   "cell_type": "code",
   "execution_count": 4,
   "id": "precious-prevention",
   "metadata": {},
   "outputs": [
    {
     "name": "stderr",
     "output_type": "stream",
     "text": [
      "/home/saad/.local/lib/python3.8/site-packages/openpyxl/styles/stylesheet.py:221: UserWarning: Workbook contains no default style, apply openpyxl's default\n",
      "  warn(\"Workbook contains no default style, apply openpyxl's default\")\n"
     ]
    },
    {
     "data": {
      "text/html": [
       "<div>\n",
       "<style scoped>\n",
       "    .dataframe tbody tr th:only-of-type {\n",
       "        vertical-align: middle;\n",
       "    }\n",
       "\n",
       "    .dataframe tbody tr th {\n",
       "        vertical-align: top;\n",
       "    }\n",
       "\n",
       "    .dataframe thead th {\n",
       "        text-align: right;\n",
       "    }\n",
       "</style>\n",
       "<table border=\"1\" class=\"dataframe\">\n",
       "  <thead>\n",
       "    <tr style=\"text-align: right;\">\n",
       "      <th></th>\n",
       "      <th>Unnamed: 0</th>\n",
       "      <th>default</th>\n",
       "      <th>student</th>\n",
       "      <th>balance</th>\n",
       "      <th>income</th>\n",
       "      <th>default2</th>\n",
       "      <th>student2</th>\n",
       "    </tr>\n",
       "  </thead>\n",
       "  <tbody>\n",
       "    <tr>\n",
       "      <th>0</th>\n",
       "      <td>1</td>\n",
       "      <td>No</td>\n",
       "      <td>No</td>\n",
       "      <td>729.526495</td>\n",
       "      <td>44361.625074</td>\n",
       "      <td>0</td>\n",
       "      <td>0</td>\n",
       "    </tr>\n",
       "    <tr>\n",
       "      <th>1</th>\n",
       "      <td>2</td>\n",
       "      <td>No</td>\n",
       "      <td>Yes</td>\n",
       "      <td>817.180407</td>\n",
       "      <td>12106.134700</td>\n",
       "      <td>0</td>\n",
       "      <td>1</td>\n",
       "    </tr>\n",
       "    <tr>\n",
       "      <th>2</th>\n",
       "      <td>3</td>\n",
       "      <td>No</td>\n",
       "      <td>No</td>\n",
       "      <td>1073.549164</td>\n",
       "      <td>31767.138947</td>\n",
       "      <td>0</td>\n",
       "      <td>0</td>\n",
       "    </tr>\n",
       "  </tbody>\n",
       "</table>\n",
       "</div>"
      ],
      "text/plain": [
       "   Unnamed: 0 default student      balance        income  default2  student2\n",
       "0           1      No      No   729.526495  44361.625074         0         0\n",
       "1           2      No     Yes   817.180407  12106.134700         0         1\n",
       "2           3      No      No  1073.549164  31767.138947         0         0"
      ]
     },
     "execution_count": 4,
     "metadata": {},
     "output_type": "execute_result"
    }
   ],
   "source": [
    "df = pd.read_excel('Default.xlsx')\n",
    "# factorize() returns two objects: a label array and an array with the unique values.\n",
    "# I am interested in the first object. \n",
    "df['default2'] = df.default.factorize()[0]\n",
    "df['student2'] = df.student.factorize()[0]\n",
    "df.head(3)"
   ]
  },
  {
   "cell_type": "markdown",
   "id": "working-northwest",
   "metadata": {},
   "source": [
    "## Logistic Regression (using sklearn)"
   ]
  },
  {
   "cell_type": "code",
   "execution_count": 24,
   "id": "driving-rebound",
   "metadata": {},
   "outputs": [],
   "source": [
    "X_train = df.balance.values.reshape(-1,1)\n",
    "y = df.default2\n",
    "#creating test data\n",
    "X_test = np.arange(df.balance.min(), df.balance.max()).reshape(-1,1)\n",
    "\n",
    "clf = skl_lm.LogisticRegression(solver='newton-cg')#‘newton-cg’ handle L2 or no penalty \n",
    "clf.fit(X_train, y)\n",
    "prob = clf.predict_proba(X_test)"
   ]
  },
  {
   "cell_type": "markdown",
   "id": "handled-treatment",
   "metadata": {},
   "source": [
    "### Interpretation of Newton's Method (used in above cell)\n",
    "The geometric interpretation of Newton's method is that at each iteration one approximates f(x) by a quadratic function around xn, and then takes a step towards the maximum/minimum of that quadratic function (in higher dimensions, this may also be a saddle point). Note that if f(x) happens to be a quadratic function, then the exact extremum is found in one step.\n",
    "\n",
    "source: https://stackoverflow.com/questions/38640109/logistic-regression-python-solvers-defintions"
   ]
  },
  {
   "cell_type": "code",
   "execution_count": 62,
   "id": "modular-citizenship",
   "metadata": {},
   "outputs": [
    {
     "name": "stderr",
     "output_type": "stream",
     "text": [
      "/home/saad/.local/lib/python3.8/site-packages/seaborn/_decorators.py:36: FutureWarning: Pass the following variables as keyword args: x, y. From version 0.12, the only valid positional argument will be `data`, and passing other arguments without an explicit keyword will result in an error or misinterpretation.\n",
      "  warnings.warn(\n"
     ]
    },
    {
     "data": {
      "image/png": "[encoded data removed]",
      "text/plain": [
       "<Figure size 864x360 with 2 Axes>"
      ]
     },
     "metadata": {},
     "output_type": "display_data"
    }
   ],
   "source": [
    "fig, (ax1, ax2) = plt.subplots(1,2, figsize=(12,5))\n",
    "sns.regplot(df.balance, df.default2, order=1, ci=None,\n",
    "            scatter_kws={'color':'orange'},\n",
    "            line_kws={'color':'lightblue', 'lw':2}, ax=ax1)\n",
    "\n",
    "ax2.scatter(X_train,y,color='orange')\n",
    "ax2.plot(X_test,prob[:,-1], color = 'lightblue') #fetch all rows and the last colm.\n",
    "\n",
    "for ax in fig.axes:\n",
    "    ax.hlines(1, xmin=ax.xaxis.get_data_interval()[0],\n",
    "              xmax=ax.xaxis.get_data_interval()[1], linestyles='dashed', lw=1)\n",
    "    ax.hlines(0, xmin=ax.xaxis.get_data_interval()[0],\n",
    "              xmax=ax.xaxis.get_data_interval()[1], linestyles='dashed', lw=1)\n",
    "    \n",
    "    ax.set_ylabel('Probability of default')\n",
    "    ax.set_xlabel('Balance')\n",
    "    ax.set_yticks([0, 0.25, 0.5, 0.75, 1.])\n",
    "    ax.set_xlim(xmin=-100)"
   ]
  },
  {
   "cell_type": "code",
   "execution_count": 64,
   "id": "adverse-northern",
   "metadata": {},
   "outputs": [
    {
     "data": {
      "text/plain": [
       "array([3, 6, 9])"
      ]
     },
     "execution_count": 64,
     "metadata": {},
     "output_type": "execute_result"
    }
   ],
   "source": [
    "#experiments\n",
    "arr2d = np.array([[1, 2, 3], [4, 5, 6], [7, 8, 9]])\n",
    "arr2d[:,-1]"
   ]
  },
  {
   "cell_type": "code",
   "execution_count": 65,
   "id": "known-poison",
   "metadata": {},
   "outputs": [],
   "source": [
    "y = df.default2"
   ]
  },
  {
   "cell_type": "code",
   "execution_count": 69,
   "id": "accurate-space",
   "metadata": {},
   "outputs": [
    {
     "name": "stdout",
     "output_type": "stream",
     "text": [
      "LogisticRegression(solver='newton-cg')\n",
      "Classes:  [0 1]\n",
      "Coefficients:  [[0.00549892]]\n",
      "Intercept:  [-10.65132784]\n"
     ]
    }
   ],
   "source": [
    "print(clf)\n",
    "print('Classes: ', clf.classes_)\n",
    "print(\"Coefficients: \",clf.coef_)\n",
    "print(\"Intercept: \",clf.intercept_)"
   ]
  },
  {
   "cell_type": "markdown",
   "id": "smooth-antigua",
   "metadata": {},
   "source": [
    "Another library which is more comprehensive for fitting logistic regression than sklearn is statsmodel. My favorite feature of statsmodel is the comprehensive summary reports that it provides which contains more inforfation than summary provided by sklearn. I will perform the same computation using statsmodel "
   ]
  },
  {
   "cell_type": "code",
   "execution_count": 78,
   "id": "comparative-newman",
   "metadata": {},
   "outputs": [
    {
     "name": "stdout",
     "output_type": "stream",
     "text": [
      "Optimization terminated successfully.\n",
      "         Current function value: 0.079823\n",
      "         Iterations 10\n",
      "                           Logit Regression Results                           \n",
      "==============================================================================\n",
      "Dep. Variable:                      y   No. Observations:                10000\n",
      "Model:                          Logit   Df Residuals:                     9998\n",
      "Method:                           MLE   Df Model:                            1\n",
      "Date:                Sat, 24 Apr 2021   Pseudo R-squ.:                  0.4534\n",
      "Time:                        00:40:24   Log-Likelihood:                -798.23\n",
      "converged:                       True   LL-Null:                       -1460.3\n",
      "Covariance Type:            nonrobust   LLR p-value:                6.233e-290\n",
      "==============================================================================\n",
      "                 coef    std err          z      P>|z|      [0.025      0.975]\n",
      "------------------------------------------------------------------------------\n",
      "const        -10.6513      0.361    -29.491      0.000     -11.359      -9.943\n",
      "balance        0.0055      0.000     24.952      0.000       0.005       0.006\n",
      "==============================================================================\n",
      "\n",
      "Possibly complete quasi-separation: A fraction 0.13 of observations can be\n",
      "perfectly predicted. This might indicate that there is complete\n",
      "quasi-separation. In this case some parameters will not be identified.\n",
      "                          Results: Logit\n",
      "==================================================================\n",
      "Model:              Logit            Pseudo R-squared: 0.453      \n",
      "Dependent Variable: y                AIC:              1600.4517  \n",
      "Date:               2021-04-24 00:40 BIC:              1614.8724  \n",
      "No. Observations:   10000            Log-Likelihood:   -798.23    \n",
      "Df Model:           1                LL-Null:          -1460.3    \n",
      "Df Residuals:       9998             LLR p-value:      6.2329e-290\n",
      "Converged:          1.0000           Scale:            1.0000     \n",
      "No. Iterations:     10.0000                                       \n",
      "-------------------------------------------------------------------\n",
      "             Coef.    Std.Err.     z      P>|z|    [0.025    0.975]\n",
      "-------------------------------------------------------------------\n",
      "const       -10.6513    0.3612  -29.4913  0.0000  -11.3592  -9.9435\n",
      "balance       0.0055    0.0002   24.9524  0.0000    0.0051   0.0059\n",
      "==================================================================\n",
      "\n"
     ]
    }
   ],
   "source": [
    "X_train = sm.add_constant(df.balance)\n",
    "est = sm.Logit(y.ravel(), X_train).fit()\n",
    "print(est.summary())\n",
    "print(est.summary2())"
   ]
  },
  {
   "cell_type": "code",
   "execution_count": 85,
   "id": "charming-scene",
   "metadata": {},
   "outputs": [
    {
     "name": "stdout",
     "output_type": "stream",
     "text": [
      "Optimization terminated successfully.\n",
      "         Current function value: 0.145434\n",
      "         Iterations 7\n",
      "                           Logit Regression Results                           \n",
      "==============================================================================\n",
      "Dep. Variable:               default2   No. Observations:                10000\n",
      "Model:                          Logit   Df Residuals:                     9998\n",
      "Method:                           MLE   Df Model:                            1\n",
      "Date:                Sat, 24 Apr 2021   Pseudo R-squ.:                0.004097\n",
      "Time:                        00:43:23   Log-Likelihood:                -1454.3\n",
      "converged:                       True   LL-Null:                       -1460.3\n",
      "Covariance Type:            nonrobust   LLR p-value:                 0.0005416\n",
      "==============================================================================\n",
      "                 coef    std err          z      P>|z|      [0.025      0.975]\n",
      "------------------------------------------------------------------------------\n",
      "const         -3.5041      0.071    -49.554      0.000      -3.643      -3.366\n",
      "student2       0.4049      0.115      3.520      0.000       0.179       0.630\n",
      "==============================================================================\n",
      "\n",
      "\n",
      "\n",
      "\n",
      "                         Results: Logit\n",
      "=================================================================\n",
      "Model:              Logit            Pseudo R-squared: 0.004     \n",
      "Dependent Variable: default2         AIC:              2912.6831 \n",
      "Date:               2021-04-24 00:43 BIC:              2927.1037 \n",
      "No. Observations:   10000            Log-Likelihood:   -1454.3   \n",
      "Df Model:           1                LL-Null:          -1460.3   \n",
      "Df Residuals:       9998             LLR p-value:      0.00054161\n",
      "Converged:          1.0000           Scale:            1.0000    \n",
      "No. Iterations:     7.0000                                       \n",
      "------------------------------------------------------------------\n",
      "              Coef.   Std.Err.     z      P>|z|    [0.025   0.975]\n",
      "------------------------------------------------------------------\n",
      "const        -3.5041    0.0707  -49.5541  0.0000  -3.6427  -3.3655\n",
      "student2      0.4049    0.1150    3.5202  0.0004   0.1795   0.6303\n",
      "=================================================================\n",
      "\n"
     ]
    }
   ],
   "source": [
    "X_train = sm.add_constant(df.student2)\n",
    "y = df.default2\n",
    "est = sm.Logit(y,X_train).fit()\n",
    "print(est.summary())\n",
    "print(\"\\n\")\n",
    "print(\"\\n\")\n",
    "print(est.summary2())"
   ]
  },
  {
   "cell_type": "code",
   "execution_count": null,
   "id": "intelligent-custom",
   "metadata": {},
   "outputs": [],
   "source": []
  }
 ],
 "metadata": {
  "kernelspec": {
   "display_name": "Python 3",
   "language": "python",
   "name": "python3"
  },
  "language_info": {
   "codemirror_mode": {
    "name": "ipython",
    "version": 3
   },
   "file_extension": ".py",
   "mimetype": "text/x-python",
   "name": "python",
   "nbconvert_exporter": "python",
   "pygments_lexer": "ipython3",
   "version": "3.8.5"
  }
 },
 "nbformat": 4,
 "nbformat_minor": 5
}
